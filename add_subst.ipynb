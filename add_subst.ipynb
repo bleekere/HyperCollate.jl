{
 "cells": [
  {
   "cell_type": "markdown",
   "metadata": {},
   "source": [
    "# How to preprocess xml with add/del substs without the subst tag"
   ]
  },
  {
   "cell_type": "code",
   "execution_count": 1,
   "metadata": {},
   "outputs": [
    {
     "data": {
      "text/plain": [
       "\"<p>De te streng doorgedreven rationalisatie van zijn prinsenjeugd had dit \\n<del>met <subst><del>hem</del><add>zich</add></subst></del>\\nmeegebracht.</p>\""
      ]
     },
     "execution_count": 1,
     "metadata": {},
     "output_type": "execute_result"
    }
   ],
   "source": [
    "using HyperCollate\n",
    "\n",
    "xml = \"\"\"\n",
    "<p>De te streng doorgedreven rationalisatie van zijn prinsenjeugd had dit \n",
    "<del>met <del>hem</del><add>zich</add></del>\n",
    "meegebracht.</p>\n",
    "\"\"\"\n",
    "\n",
    "processed_xml = add_subst(xml)"
   ]
  },
  {
   "cell_type": "code",
   "execution_count": 2,
   "metadata": {},
   "outputs": [
    {
     "data": {
      "text/plain": [
       "\"<xml><s>...weinig van pas komen\\n<del>zoo, o.m. in de sexueele opvoeding van den\\ntroo<subst><del>p</del><add>n</add></subst>o\\n<add>p</add>volger...</del></s></xml>\""
      ]
     },
     "execution_count": 2,
     "metadata": {},
     "output_type": "execute_result"
    }
   ],
   "source": [
    "xml = \"\"\"\n",
    "<xml><s>...weinig van pas komen\n",
    "<del type=\"crossedOut\" rend=\"grey pencil\" hand=\"#RB\" resp=\"#EB\">zoo, o.m. in de sexueele opvoeding van den\n",
    "troo<del type=\"crossedOut\" rend=\"grey pencil\" hand=\"#RB\" resp=\"#EB\">p</del>\n",
    "<add place=\"supralinear\" hand=\"#RB\" rend=\"grey pencil\" resp=\"#EB\">n</add>o\n",
    "<add place=\"supralinear\" rend=\"grey pencil\" hand=\"#RB\" resp=\"#EB\">p</add>volger...</del></s></xml>\n",
    "\"\"\"\n",
    "\n",
    "processed_xml = add_subst(xml)"
   ]
  },
  {
   "cell_type": "code",
   "execution_count": 3,
   "metadata": {},
   "outputs": [
    {
     "data": {
      "text/plain": [
       "\"<xml>Hoe zoet moet nochtans zijn dit <subst><del>werven om</del><add>trachten naar</add></subst> een vrouw,\\nde ongewisheid vóór de liefelijke toestemming!</xml>\""
      ]
     },
     "execution_count": 3,
     "metadata": {},
     "output_type": "execute_result"
    }
   ],
   "source": [
    "xml = \"\"\"\n",
    "<xml>Hoe zoet moet nochtans zijn dit <del>werven om</del><add>trachten naar</add> een vrouw,\n",
    "de ongewisheid vóór de liefelijke toestemming!</xml>\n",
    "\"\"\"\n",
    "\n",
    "processed_xml = add_subst(xml)"
   ]
  },
  {
   "cell_type": "code",
   "execution_count": 4,
   "metadata": {},
   "outputs": [
    {
     "data": {
      "text/plain": [
       "\"<x>something <subst><del>not this</del><del>or this</del><add>but this</add></subst> something else</x>\""
      ]
     },
     "execution_count": 4,
     "metadata": {},
     "output_type": "execute_result"
    }
   ],
   "source": [
    "xml = \"<x>something <del>not this</del><del>or this</del><add>but this</add> something else</x>\"\n",
    "\n",
    "processed_xml = add_subst(xml)"
   ]
  }
 ],
 "metadata": {
  "kernelspec": {
   "display_name": "Julia 1.1.0",
   "language": "julia",
   "name": "julia-1.1"
  },
  "language_info": {
   "file_extension": ".jl",
   "mimetype": "application/julia",
   "name": "julia",
   "version": "1.1.0"
  }
 },
 "nbformat": 4,
 "nbformat_minor": 2
}
